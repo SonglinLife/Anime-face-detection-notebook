{
 "cells": [
  {
   "cell_type": "code",
   "execution_count": null,
   "metadata": {},
   "outputs": [],
   "source": [
    "%matplotlib inline\n",
    "import torch\n",
    "import numpy as np\n",
    "import pandas as pd\n",
    "from bs4 import BeautifulSoup\n",
    "import torchvision\n",
    "from torchvision import transforms, datasets, models\n",
    "import torchvision.models.detection as detection\n",
    "import matplotlib.pyplot as plt\n",
    "import matplotlib.patches as patches\n",
    "import os\n",
    "from PIL import Image\n",
    "from torchvision.models.detection.faster_rcnn import FastRCNNPredictor"
   ]
  },
  {
   "cell_type": "code",
   "execution_count": 165,
   "metadata": {},
   "outputs": [],
   "source": [
    "def generate_box(obj):\n",
    "    xmin = int(obj.find('xmin').text)\n",
    "    ymin = int(obj.find('ymin').text)\n",
    "    xmax = int(obj.find('xmax').text)\n",
    "    ymax = int(obj.find('ymax').text)\n",
    "    return [xmin, ymin, xmax, ymax]\n",
    "\n",
    "def generate_label(obj):\n",
    "    if obj.find('name').text == 'face':\n",
    "        return 1\n",
    "    return 0\n",
    "\n",
    "def generate_target(image_id, file):\n",
    "    with open(file) as f:\n",
    "        data = f.read()\n",
    "        soup = BeautifulSoup(data, 'xml')\n",
    "        objects = soup.find_all('object')\n",
    "        num_objs = len(objects)\n",
    "        \n",
    "        boxes = []\n",
    "        labels = []\n",
    "        for i in objects:\n",
    "            boxes.append(generate_box(i))\n",
    "            labels.append(generate_label(i))\n",
    "        \n",
    "        boxes = torch.as_tensor(boxes, dtype=torch.float32)\n",
    "        labels = torch.as_tensor(labels, dtype=torch.int64)\n",
    "        img_id = torch.tensor([image_id])\n",
    "        target = {}\n",
    "        target['boxes'] = boxes\n",
    "        target['labels'] = labels\n",
    "        target['image_id'] = img_id\n",
    "        return target"
   ]
  },
  {
   "cell_type": "code",
   "execution_count": 166,
   "metadata": {},
   "outputs": [],
   "source": [
    "imgs = list(sorted(os.listdir(\"./labels/images\")))\n",
    "labels = list(sorted(os.listdir('./labels/ann')))"
   ]
  },
  {
   "cell_type": "code",
   "execution_count": 167,
   "metadata": {},
   "outputs": [],
   "source": [
    "class AnimeDataSet(object):\n",
    "    def __init__(self, transforms, imgs, labels):\n",
    "        self.transforms = transforms\n",
    "        self.imgs = imgs\n",
    "        self.labels = labels\n",
    "    \n",
    "    def __getitem__(self, x):\n",
    "        file_image = str(x).zfill(6) + '.jpg'\n",
    "        file_label = str(x).zfill(6) + '.xml'\n",
    "        img_path = os.path.join(\"./labels/images/\", file_image)\n",
    "        label_path = os.path.join(\"./labels/ann/\", file_label)\n",
    "        img = Image.open(img_path).convert('RGB')\n",
    "        target = generate_target(x, label_path)\n",
    "        if self.transforms is not None:\n",
    "            img = self.transforms(img) #转换  \n",
    "        return img, target\n",
    "    \n",
    "    def __len__(self):\n",
    "        return len(self.imgs)"
   ]
  },
  {
   "cell_type": "code",
   "execution_count": 168,
   "metadata": {},
   "outputs": [],
   "source": [
    "data_transform =transforms.Compose([transforms.ToTensor()])"
   ]
  },
  {
   "cell_type": "code",
   "execution_count": 169,
   "metadata": {},
   "outputs": [],
   "source": [
    "def collate_fn(batch):\n",
    "    return tuple(zip(*batch))\n",
    "train_dataset = AnimeDataSet(data_transform, imgs[:2000], labels[:2000])\n",
    "data_loader = torch.utils.data.DataLoader(train_dataset, batch_size=4, collate_fn=collate_fn)\n",
    "#eval_dataset = AnimeDataSet(data_transform, imgs[5000:5100], labels[5000:5100])\n",
    "#eval_data_loader = torch.utils.data.DataLoader(eval_dataset, batch_size=4, collate_fn=collate_fn)"
   ]
  },
  {
   "cell_type": "code",
   "execution_count": 71,
   "metadata": {},
   "outputs": [],
   "source": [
    "def get_model_instance_segmentation(num_classes):\n",
    "    model = torchvision.models.detection.fasterrcnn_resnet50_fpn(pretrained=True)\n",
    "    in_features = model.roi_heads.box_predictor.cls_score.in_features\n",
    "    model.roi_heads.box_predictor = FastRCNNPredictor(in_features, num_classes)\n",
    "    return model"
   ]
  },
  {
   "cell_type": "code",
   "execution_count": null,
   "metadata": {},
   "outputs": [],
   "source": [
    "model = get_model_instance_segmentation(2) # 二分类问题"
   ]
  },
  {
   "cell_type": "code",
   "execution_count": 172,
   "metadata": {},
   "outputs": [],
   "source": [
    "device = torch.device('cuda') if torch.cuda.is_available() else torch.device('cpu')\n",
    "for imgs, annotations in data_loader:\n",
    "    imgs = list(img.to(device) for img in imgs)\n",
    "    annotations = [{k: v.to(device) for k, v in t.items()} for t in annotations]\n",
    "    break"
   ]
  },
  {
   "cell_type": "markdown",
   "metadata": {},
   "source": [
    "# Train"
   ]
  },
  {
   "cell_type": "code",
   "execution_count": 175,
   "metadata": {},
   "outputs": [],
   "source": [
    "import time\n",
    "num_epochs = 25\n",
    "model.to(device)\n",
    "t =  time.time()\n",
    "# 参数\n",
    "params = [p for p in model.parameters() if p.requires_grad]\n",
    "optimizer = torch.optim.SGD(params, lr=0.005,\n",
    "                                momentum=0.9, weight_decay=0.0005)\n",
    "all_loss = pd.DataFrame(columns=['train_epoch_loss'])\n",
    "for epoch in range(num_epochs):\n",
    "    model.train()   \n",
    "    train_epoch_loss = 0\n",
    "    #eval_epoch_loss = 0\n",
    "    for imgs, annotations in data_loader:\n",
    "        s = time.time()\n",
    "        imgs = list(img.to(device) for img in imgs)\n",
    "        annotations = [{k: v.to(device) for k, v in t.items()} for t in annotations]\n",
    "        try:\n",
    "            loss_dict = model([imgs[0]], [annotations[0]])\n",
    "        except:\n",
    "            continue\n",
    "        losses = sum(loss for loss in loss_dict.values())        \n",
    "        optimizer.zero_grad()\n",
    "        losses.backward()\n",
    "        optimizer.step() \n",
    "        #print(f'Iteration: {i}/{len_dataloader}, Loss: {losses}')\n",
    "        train_epoch_loss += losses\n",
    "        one_iter = time.time()-s\n",
    "\n",
    "    '''\n",
    "    for imgs, annotations in eval_data_loader:\n",
    "        imgs = list(img.to(device) for img in imgs)\n",
    "        annotations = [{k: v.to(device) for k, v in t.items()} for t in annotations]\n",
    "        loss_dict = model([imgs[0]], [annotations[0]])\n",
    "        losses = sum(loss for loss in loss_dict.values())\n",
    "        eval_epoch_loss += losses  \n",
    "    '''\n",
    "    print(f'epoch: {epoch}, train_loss: {train_epoch_loss}')   \n",
    "    all_loss = all_loss.append({'train_epoch_loss':train_epoch_loss.item()}, ignore_index=True)  \n",
    "all_time = time.time()-t "
   ]
  },
  {
   "cell_type": "code",
   "execution_count": 63,
   "metadata": {},
   "outputs": [],
   "source": [
    "def save_res(name):\n",
    "    all_loss.to_csv(name+\".csv\",index=False)\n",
    "    torch.save(model.state_dict(),name+\".pt\")\n",
    "    with open('./results/time.txt','a+') as f:\n",
    "        f.write(name+': '+str(all_time)+'\\n')\n",
    "save_res('resnet50')"
   ]
  },
  {
   "cell_type": "markdown",
   "metadata": {},
   "source": [
    "# 验证模型"
   ]
  },
  {
   "cell_type": "code",
   "execution_count": 46,
   "metadata": {},
   "outputs": [],
   "source": [
    "def plot_image(img_tensor, annotation=None, i=0, name=None):\n",
    "    \n",
    "    fig,ax = plt.subplots(1)\n",
    "    img = img_tensor.cpu().data\n",
    "\n",
    "    ax.imshow(img.permute(1, 2, 0)) \n",
    "    if annotation==None:\n",
    "        plt.show()\n",
    "        return\n",
    "    \n",
    "    for box in annotation[\"boxes\"]:\n",
    "        xmin, ymin, xmax, ymax = box.detach()\n",
    "\n",
    "        # Create a Rectangle patch\n",
    "        rect = patches.Rectangle((xmin,ymin),(xmax-xmin),(ymax-ymin),linewidth=1,edgecolor='r',facecolor='none')\n",
    "\n",
    "        # Add the patch to the Axes\n",
    "        ax.add_patch(rect)\n",
    "    path = './results/'+name+'/'\n",
    "    try:\n",
    "        os.mkdir(path)\n",
    "    except:\n",
    "        pass\n",
    "    plt.savefig(path+'pred'+str(i).zfill(5)+'.jpg')\n",
    "    plt.show()\n",
    "    #plt.savefig('pred'+str(i).zfill(5)+'.jpg')"
   ]
  },
  {
   "cell_type": "code",
   "execution_count": 33,
   "metadata": {},
   "outputs": [],
   "source": [
    "def trans_images(trans, images):\n",
    "    imgs = []\n",
    "    for file_image in images:\n",
    "        img_path = os.path.join(\"./pixiv/\", file_image)\n",
    "        img = Image.open(img_path).convert('RGB')\n",
    "        if trans is not None:\n",
    "            img = trans(img) #转换\n",
    "        imgs.append(img)\n",
    "    return imgs"
   ]
  },
  {
   "cell_type": "code",
   "execution_count": 59,
   "metadata": {},
   "outputs": [],
   "source": [
    "def load_model(name):\n",
    "    model = get_model_instance_segmentation(2)\n",
    "    model.load_state_dict(torch.load(name+'.pt'))\n",
    "    model.eval()\n",
    "    return model\n",
    "model = load_model('resnet50') "
   ]
  },
  {
   "cell_type": "code",
   "execution_count": null,
   "metadata": {},
   "outputs": [],
   "source": [
    "files = os.listdir(\"./pixiv/\")\n",
    "i = 0\n",
    "for file in files:\n",
    "    os.rename(\"./pixiv/\"+file, \"./pixiv/\"+str(i).zfill(4)+'.jpg')\n",
    "    i+=1\n",
    "files = os.listdir(\"./pixiv/\")\n",
    "i = 0\n",
    "for file in files:\n",
    "    os.rename(\"./pixiv/\"+file, \"./pixiv/\"+str(i).zfill(5)+'.jpg')\n",
    "    i +=1"
   ]
  },
  {
   "cell_type": "code",
   "execution_count": null,
   "metadata": {},
   "outputs": [],
   "source": [
    "def plot_train_loss(name):\n",
    "    loss = pd.read_csv(name+'.csv')\n",
    "    plt.plot(loss['train_epoch_loss'],label='resnet50')\n",
    "    plt.legend()\n",
    "    plt.savefig(\"./results/\"+name+'.png')"
   ]
  },
  {
   "cell_type": "code",
   "execution_count": null,
   "metadata": {},
   "outputs": [
    {
     "data": {
      "image/png": "[encoded data removed]",
      "text/plain": [
       "<Figure size 432x288 with 1 Axes>"
      ]
     },
     "metadata": {},
     "output_type": "display_data"
    }
   ],
   "source": [
    "plot_train_loss('resnet50')"
   ]
  },
  {
   "cell_type": "code",
   "execution_count": null,
   "metadata": {},
   "outputs": [],
   "source": [
    "imgs = list(sorted(os.listdir(\"./pixiv/\")))\n",
    "images = trans_images(data_transform, imgs)\n",
    "model.eval()\n",
    "model.to('cpu')\n",
    "preds = model(images)\n",
    "def save_result_pic(preds, name):\n",
    "   for i in range(len(preds)):\n",
    "      plot_image(images[i], preds[i], i, name)\n",
    "save_result_pic(preds, 'resnet50')"
   ]
  }
 ],
 "metadata": {
  "kernelspec": {
   "display_name": "Python 3",
   "language": "python",
   "name": "python3"
  },
  "language_info": {
   "codemirror_mode": {
    "name": "ipython",
    "version": 3
   },
   "file_extension": ".py",
   "mimetype": "text/x-python",
   "name": "python",
   "nbconvert_exporter": "python",
   "pygments_lexer": "ipython3",
   "version": "3.9.5"
  },
  "orig_nbformat": 4
 },
 "nbformat": 4,
 "nbformat_minor": 2
}
